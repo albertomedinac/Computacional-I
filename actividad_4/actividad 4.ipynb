{
 "cells": [
  {
   "cell_type": "code",
   "execution_count": 107,
   "metadata": {},
   "outputs": [],
   "source": [
    "import pandas as pd\n",
    "import numpy as np\n",
    "import matplotlib\n",
    "import matplotlib.pyplot as plt\n",
    "%matplotlib inline\n",
    "import seaborn as sns\n"
   ]
  },
  {
   "cell_type": "code",
   "execution_count": 108,
   "metadata": {},
   "outputs": [],
   "source": [
    "#descargamos los datos\n",
    "df=pd.read_csv('aguaprieta2',skiprows=20,skipfooter=1, sep='\\s+',header=None,\n",
    "               names=['DD/MM/YY','PRECIP','EVAP','TMAX','TMIN'],engine='python')"
   ]
  },
  {
   "cell_type": "code",
   "execution_count": 109,
   "metadata": {},
   "outputs": [],
   "source": [
    "\n",
    "df['FECHA'] = pd.to_datetime(df.apply(lambda x: x['DD/MM/YY'], 1), dayfirst=True)\n",
    "df=df.drop(['DD/MM/YY'],1)"
   ]
  },
  {
   "cell_type": "code",
   "execution_count": 110,
   "metadata": {},
   "outputs": [
    {
     "data": {
      "text/plain": [
       "PRECIP           float64\n",
       "EVAP             float64\n",
       "TMAX             float64\n",
       "TMIN             float64\n",
       "FECHA     datetime64[ns]\n",
       "dtype: object"
      ]
     },
     "execution_count": 110,
     "metadata": {},
     "output_type": "execute_result"
    }
   ],
   "source": [
    "df.dtypes\n"
   ]
  },
  {
   "cell_type": "code",
   "execution_count": 111,
   "metadata": {},
   "outputs": [
    {
     "data": {
      "text/html": [
       "<div>\n",
       "<style scoped>\n",
       "    .dataframe tbody tr th:only-of-type {\n",
       "        vertical-align: middle;\n",
       "    }\n",
       "\n",
       "    .dataframe tbody tr th {\n",
       "        vertical-align: top;\n",
       "    }\n",
       "\n",
       "    .dataframe thead th {\n",
       "        text-align: right;\n",
       "    }\n",
       "</style>\n",
       "<table border=\"1\" class=\"dataframe\">\n",
       "  <thead>\n",
       "    <tr style=\"text-align: right;\">\n",
       "      <th></th>\n",
       "      <th>PRECIP</th>\n",
       "      <th>EVAP</th>\n",
       "      <th>TMAX</th>\n",
       "      <th>TMIN</th>\n",
       "      <th>FECHA</th>\n",
       "    </tr>\n",
       "  </thead>\n",
       "  <tbody>\n",
       "    <tr>\n",
       "      <th>0</th>\n",
       "      <td>0.0</td>\n",
       "      <td>NaN</td>\n",
       "      <td>19.5</td>\n",
       "      <td>2.0</td>\n",
       "      <td>1961-02-01</td>\n",
       "    </tr>\n",
       "    <tr>\n",
       "      <th>1</th>\n",
       "      <td>0.0</td>\n",
       "      <td>NaN</td>\n",
       "      <td>20.0</td>\n",
       "      <td>2.5</td>\n",
       "      <td>1961-02-02</td>\n",
       "    </tr>\n",
       "    <tr>\n",
       "      <th>2</th>\n",
       "      <td>0.0</td>\n",
       "      <td>2.7</td>\n",
       "      <td>21.5</td>\n",
       "      <td>1.8</td>\n",
       "      <td>1961-02-03</td>\n",
       "    </tr>\n",
       "    <tr>\n",
       "      <th>3</th>\n",
       "      <td>0.0</td>\n",
       "      <td>3.0</td>\n",
       "      <td>16.7</td>\n",
       "      <td>1.0</td>\n",
       "      <td>1961-02-04</td>\n",
       "    </tr>\n",
       "    <tr>\n",
       "      <th>4</th>\n",
       "      <td>0.0</td>\n",
       "      <td>1.3</td>\n",
       "      <td>11.4</td>\n",
       "      <td>4.0</td>\n",
       "      <td>1961-02-05</td>\n",
       "    </tr>\n",
       "  </tbody>\n",
       "</table>\n",
       "</div>"
      ],
      "text/plain": [
       "   PRECIP  EVAP  TMAX  TMIN      FECHA\n",
       "0     0.0   NaN  19.5   2.0 1961-02-01\n",
       "1     0.0   NaN  20.0   2.5 1961-02-02\n",
       "2     0.0   2.7  21.5   1.8 1961-02-03\n",
       "3     0.0   3.0  16.7   1.0 1961-02-04\n",
       "4     0.0   1.3  11.4   4.0 1961-02-05"
      ]
     },
     "execution_count": 111,
     "metadata": {},
     "output_type": "execute_result"
    }
   ],
   "source": [
    "df.head()"
   ]
  },
  {
   "cell_type": "code",
   "execution_count": 112,
   "metadata": {},
   "outputs": [
    {
     "data": {
      "text/html": [
       "<div>\n",
       "<style scoped>\n",
       "    .dataframe tbody tr th:only-of-type {\n",
       "        vertical-align: middle;\n",
       "    }\n",
       "\n",
       "    .dataframe tbody tr th {\n",
       "        vertical-align: top;\n",
       "    }\n",
       "\n",
       "    .dataframe thead th {\n",
       "        text-align: right;\n",
       "    }\n",
       "</style>\n",
       "<table border=\"1\" class=\"dataframe\">\n",
       "  <thead>\n",
       "    <tr style=\"text-align: right;\">\n",
       "      <th></th>\n",
       "      <th>PRECIP</th>\n",
       "      <th>EVAP</th>\n",
       "      <th>TMAX</th>\n",
       "      <th>TMIN</th>\n",
       "    </tr>\n",
       "  </thead>\n",
       "  <tbody>\n",
       "    <tr>\n",
       "      <th>count</th>\n",
       "      <td>16733.000000</td>\n",
       "      <td>12277.000000</td>\n",
       "      <td>16446.000000</td>\n",
       "      <td>16435.000000</td>\n",
       "    </tr>\n",
       "    <tr>\n",
       "      <th>mean</th>\n",
       "      <td>0.955698</td>\n",
       "      <td>5.679653</td>\n",
       "      <td>26.371555</td>\n",
       "      <td>8.596580</td>\n",
       "    </tr>\n",
       "    <tr>\n",
       "      <th>std</th>\n",
       "      <td>4.043399</td>\n",
       "      <td>3.137320</td>\n",
       "      <td>8.018800</td>\n",
       "      <td>7.895741</td>\n",
       "    </tr>\n",
       "    <tr>\n",
       "      <th>min</th>\n",
       "      <td>0.000000</td>\n",
       "      <td>0.000000</td>\n",
       "      <td>-3.500000</td>\n",
       "      <td>-19.500000</td>\n",
       "    </tr>\n",
       "    <tr>\n",
       "      <th>25%</th>\n",
       "      <td>0.000000</td>\n",
       "      <td>3.100000</td>\n",
       "      <td>20.000000</td>\n",
       "      <td>2.000000</td>\n",
       "    </tr>\n",
       "    <tr>\n",
       "      <th>50%</th>\n",
       "      <td>0.000000</td>\n",
       "      <td>5.300000</td>\n",
       "      <td>27.000000</td>\n",
       "      <td>8.000000</td>\n",
       "    </tr>\n",
       "    <tr>\n",
       "      <th>75%</th>\n",
       "      <td>0.000000</td>\n",
       "      <td>7.900000</td>\n",
       "      <td>33.000000</td>\n",
       "      <td>16.000000</td>\n",
       "    </tr>\n",
       "    <tr>\n",
       "      <th>max</th>\n",
       "      <td>70.000000</td>\n",
       "      <td>17.600000</td>\n",
       "      <td>45.000000</td>\n",
       "      <td>27.000000</td>\n",
       "    </tr>\n",
       "  </tbody>\n",
       "</table>\n",
       "</div>"
      ],
      "text/plain": [
       "             PRECIP          EVAP          TMAX          TMIN\n",
       "count  16733.000000  12277.000000  16446.000000  16435.000000\n",
       "mean       0.955698      5.679653     26.371555      8.596580\n",
       "std        4.043399      3.137320      8.018800      7.895741\n",
       "min        0.000000      0.000000     -3.500000    -19.500000\n",
       "25%        0.000000      3.100000     20.000000      2.000000\n",
       "50%        0.000000      5.300000     27.000000      8.000000\n",
       "75%        0.000000      7.900000     33.000000     16.000000\n",
       "max       70.000000     17.600000     45.000000     27.000000"
      ]
     },
     "execution_count": 112,
     "metadata": {},
     "output_type": "execute_result"
    }
   ],
   "source": [
    "df.describe()"
   ]
  },
  {
   "cell_type": "code",
   "execution_count": 113,
   "metadata": {},
   "outputs": [],
   "source": [
    "df['MES'] = df['FECHA'].dt.month"
   ]
  },
  {
   "cell_type": "code",
   "execution_count": 114,
   "metadata": {},
   "outputs": [],
   "source": [
    "df['AÑO']=df['FECHA'].dt.year"
   ]
  },
  {
   "cell_type": "code",
   "execution_count": 115,
   "metadata": {},
   "outputs": [
    {
     "data": {
      "text/html": [
       "<div>\n",
       "<style scoped>\n",
       "    .dataframe tbody tr th:only-of-type {\n",
       "        vertical-align: middle;\n",
       "    }\n",
       "\n",
       "    .dataframe tbody tr th {\n",
       "        vertical-align: top;\n",
       "    }\n",
       "\n",
       "    .dataframe thead th {\n",
       "        text-align: right;\n",
       "    }\n",
       "</style>\n",
       "<table border=\"1\" class=\"dataframe\">\n",
       "  <thead>\n",
       "    <tr style=\"text-align: right;\">\n",
       "      <th></th>\n",
       "      <th>PRECIP</th>\n",
       "      <th>EVAP</th>\n",
       "      <th>TMAX</th>\n",
       "      <th>TMIN</th>\n",
       "      <th>FECHA</th>\n",
       "      <th>MES</th>\n",
       "      <th>AÑO</th>\n",
       "    </tr>\n",
       "  </thead>\n",
       "  <tbody>\n",
       "    <tr>\n",
       "      <th>0</th>\n",
       "      <td>0.0</td>\n",
       "      <td>NaN</td>\n",
       "      <td>19.5</td>\n",
       "      <td>2.0</td>\n",
       "      <td>1961-02-01</td>\n",
       "      <td>2</td>\n",
       "      <td>1961</td>\n",
       "    </tr>\n",
       "    <tr>\n",
       "      <th>1</th>\n",
       "      <td>0.0</td>\n",
       "      <td>NaN</td>\n",
       "      <td>20.0</td>\n",
       "      <td>2.5</td>\n",
       "      <td>1961-02-02</td>\n",
       "      <td>2</td>\n",
       "      <td>1961</td>\n",
       "    </tr>\n",
       "    <tr>\n",
       "      <th>2</th>\n",
       "      <td>0.0</td>\n",
       "      <td>2.7</td>\n",
       "      <td>21.5</td>\n",
       "      <td>1.8</td>\n",
       "      <td>1961-02-03</td>\n",
       "      <td>2</td>\n",
       "      <td>1961</td>\n",
       "    </tr>\n",
       "    <tr>\n",
       "      <th>3</th>\n",
       "      <td>0.0</td>\n",
       "      <td>3.0</td>\n",
       "      <td>16.7</td>\n",
       "      <td>1.0</td>\n",
       "      <td>1961-02-04</td>\n",
       "      <td>2</td>\n",
       "      <td>1961</td>\n",
       "    </tr>\n",
       "    <tr>\n",
       "      <th>4</th>\n",
       "      <td>0.0</td>\n",
       "      <td>1.3</td>\n",
       "      <td>11.4</td>\n",
       "      <td>4.0</td>\n",
       "      <td>1961-02-05</td>\n",
       "      <td>2</td>\n",
       "      <td>1961</td>\n",
       "    </tr>\n",
       "  </tbody>\n",
       "</table>\n",
       "</div>"
      ],
      "text/plain": [
       "   PRECIP  EVAP  TMAX  TMIN      FECHA  MES   AÑO\n",
       "0     0.0   NaN  19.5   2.0 1961-02-01    2  1961\n",
       "1     0.0   NaN  20.0   2.5 1961-02-02    2  1961\n",
       "2     0.0   2.7  21.5   1.8 1961-02-03    2  1961\n",
       "3     0.0   3.0  16.7   1.0 1961-02-04    2  1961\n",
       "4     0.0   1.3  11.4   4.0 1961-02-05    2  1961"
      ]
     },
     "execution_count": 115,
     "metadata": {},
     "output_type": "execute_result"
    }
   ],
   "source": [
    "df.head()\n"
   ]
  },
  {
   "cell_type": "code",
   "execution_count": 116,
   "metadata": {},
   "outputs": [
    {
     "name": "stdout",
     "output_type": "stream",
     "text": [
      "MES 1 0.6 mm\n",
      "MES 2 0.6 mm\n",
      "MES 3 0.3 mm\n",
      "MES 4 0.2 mm\n",
      "MES 5 0.2 mm\n",
      "MES 6 0.4 mm\n",
      "MES 7 3.0 mm\n",
      "MES 8 2.6 mm\n",
      "MES 9 1.4 mm\n",
      "MES 10 0.8 mm\n",
      "MES 11 0.6 mm\n",
      "MES 12 0.9 mm\n"
     ]
    }
   ],
   "source": [
    "for i in range(1,13):\n",
    "        PRECIPMENS =  df.loc[df['MES'] == i, 'PRECIP'].mean()\n",
    "        print('MES',i,np.round(PRECIPMENS,decimals=1),'mm')"
   ]
  },
  {
   "cell_type": "code",
   "execution_count": 117,
   "metadata": {},
   "outputs": [],
   "source": [
    "PROM_PRECIP=(0.6,0.6,0.3,0.2,0.2,0.4,3,2.6,1.4,0.8,0.6,0.9)"
   ]
  },
  {
   "cell_type": "code",
   "execution_count": 118,
   "metadata": {},
   "outputs": [],
   "source": [
    "Año = [i for i in range(1961,2012)]\n",
    "precipaño = [df[df.AÑO==(i)].PRECIP.mean() for i in range(1,13)]\n",
    "tmaxaño = [df[df.AÑO==(i)].TMAX.mean() for i in range(1960,2012)]\n",
    "tminaño = [df[df.AÑO==(i)].TMIN.mean() for i in range(1961,2012)]"
   ]
  },
  {
   "cell_type": "code",
   "execution_count": 119,
   "metadata": {},
   "outputs": [],
   "source": [
    "Meses = [i for i in range(1,13)]\n",
    "Precipmens = [df[df.MES==(i)].PRECIP.mean() for i in range(1,13)]\n",
    "tmaxmens = [df[df.MES==(i)].TMAX.mean() for i in range(1,13)]\n",
    "tminmens = [df[df.MES==(i)].TMIN.mean() for i in range(1,13)]"
   ]
  },
  {
   "cell_type": "code",
   "execution_count": 120,
   "metadata": {},
   "outputs": [],
   "source": [
    "ind = np.arange(len(PROM_PRECIP))  # the x locations for the groups\n",
    "width = 0.35  # the width of the bars"
   ]
  },
  {
   "cell_type": "code",
   "execution_count": 121,
   "metadata": {
    "scrolled": true
   },
   "outputs": [
    {
     "data": {
      "image/png": "[encoded data removed]",
      "text/plain": [
       "<Figure size 432x288 with 1 Axes>"
      ]
     },
     "metadata": {
      "needs_background": "light"
     },
     "output_type": "display_data"
    }
   ],
   "source": [
    "fig, ax = plt.subplots()\n",
    "rects1 = ax.bar(ind - width, PROM_PRECIP, width,\n",
    "                color='SkyBlue', label='Precipitación')\n",
    "# Add some text for labels, title and custom x-axis tick labels, etc.\n",
    "ax.set_ylabel('Precipitación promedio')\n",
    "ax.set_title('Precipitación por mes')\n",
    "ax.set_xticks(ind)\n",
    "ax.set_xticklabels(('Ene', 'Feb', 'Mar', 'Abr', 'Jun','Jul','Ago','Sept','Oct','Nov'\n",
    "                   ,'Dic'))\n",
    "ax.legend()\n",
    "\n",
    "def autolabel(rects, xpos='center'):\n",
    "    \"\"\"\n",
    "    Attach a text label above each bar in *rects*, displaying its height.\n",
    "\n",
    "    *xpos* indicates which side to place the text w.r.t. the center of\n",
    "    the bar. It can be one of the following {'center', 'right', 'left'}.\n",
    "    \"\"\"\n",
    "\n",
    "    xpos = xpos.lower()  # normalize the case of the parameter\n",
    "    ha = {'center': 'center', 'right': 'left', 'left': 'right'}\n",
    "    offset = {'center': 0.5, 'right': 0.57, 'left': 0.43}  # x_txt = x + w*off\n",
    "\n",
    "    for rect in rects:\n",
    "        height = rect.get_height()\n",
    "        ax.text(rect.get_x() + rect.get_width()*offset[xpos], 1.01*height,\n",
    "                '{}'.format(height), ha=ha[xpos], va='bottom')\n",
    "\n",
    "\n",
    "autolabel(rects1, \"left\")\n",
    "\n",
    "\n",
    "plt.show()"
   ]
  },
  {
   "cell_type": "code",
   "execution_count": 122,
   "metadata": {
    "scrolled": true
   },
   "outputs": [
    {
     "name": "stdout",
     "output_type": "stream",
     "text": [
      "AÑO 1961 314.5 \n",
      "AÑO 1962 134.0 \n",
      "AÑO 1963 142.9 \n",
      "AÑO 1964 323.0 \n",
      "AÑO 1965 374.0 \n",
      "AÑO 1966 441.7 \n",
      "AÑO 1967 473.2 \n",
      "AÑO 1968 304.8 \n",
      "AÑO 1969 271.5 \n",
      "AÑO 1970 211.0 \n",
      "AÑO 1971 354.0 \n",
      "AÑO 1972 29.0 \n",
      "AÑO 1973 10.5 \n",
      "AÑO 1974 311.8 \n",
      "AÑO 1975 291.2 \n",
      "AÑO 1976 283.0 \n",
      "AÑO 1977 491.0 \n",
      "AÑO 1978 428.5 \n",
      "AÑO 1979 306.9 \n",
      "AÑO 1980 305.0 \n",
      "AÑO 1981 366.0 \n",
      "AÑO 1982 366.2 \n",
      "AÑO 1983 596.8 \n",
      "AÑO 1984 579.4 \n",
      "AÑO 1985 457.7 \n",
      "AÑO 1986 448.9 \n",
      "AÑO 1987 198.8 \n",
      "AÑO 1988 472.0 \n",
      "AÑO 1989 288.2 \n",
      "AÑO 1990 425.5 \n",
      "AÑO 1991 448.9 \n",
      "AÑO 1992 379.4 \n",
      "AÑO 1993 346.8 \n",
      "AÑO 1994 412.3 \n",
      "AÑO 1995 268.0 \n",
      "AÑO 1996 323.4 \n",
      "AÑO 1997 297.0 \n",
      "AÑO 1998 269.4 \n",
      "AÑO 1999 0.0 \n",
      "AÑO 2000 155.5 \n",
      "AÑO 2001 311.6 \n",
      "AÑO 2002 289.2 \n",
      "AÑO 2003 187.4 \n",
      "AÑO 2004 269.0 \n",
      "AÑO 2005 290.2 \n",
      "AÑO 2006 345.5 \n",
      "AÑO 2007 432.8 \n",
      "AÑO 2008 223.0 \n",
      "AÑO 2009 194.1 \n",
      "AÑO 2010 404.7 \n",
      "AÑO 2011 142.5 \n",
      "[314.5, 134.0, 142.9, 323.0, 374.0, 441.7, 473.2, 304.8, 271.5, 211.0, 354.0, 29.0, 10.5, 311.8, 291.2, 283.0, 491.0, 428.5, 306.9, 305.0, 366.0, 366.2, 596.8, 579.4, 457.7, 448.9, 198.8, 472.0, 288.2, 425.5, 448.9, 379.4, 346.8, 412.3, 268.0, 323.4, 297.0, 269.4, 0.0, 155.5, 311.6, 289.2, 187.4, 269.0, 290.2, 345.5, 432.8, 223.0, 194.1, 404.7, 142.5]\n",
      "[1961, 1962, 1963, 1964, 1965, 1966, 1967, 1968, 1969, 1970, 1971, 1972, 1973, 1974, 1975, 1976, 1977, 1978, 1979, 1980, 1981, 1982, 1983, 1984, 1985, 1986, 1987, 1988, 1989, 1990, 1991, 1992, 1993, 1994, 1995, 1996, 1997, 1998, 1999, 2000, 2001, 2002, 2003, 2004, 2005, 2006, 2007, 2008, 2009, 2010, 2011]\n"
     ]
    }
   ],
   "source": [
    "PRECIPSUM=[]\n",
    "FECHA=[]\n",
    "for i in range(1961,2012):\n",
    "        PRECIPAÑO =  df.loc[df['AÑO'] == i, 'PRECIP'].sum()\n",
    "        PRECIPSUM.append(np.round(PRECIPAÑO,decimals=1))\n",
    "        FECHA.append(i)\n",
    "        print('AÑO',i,np.round(PRECIPAÑO,decimals=1),'')\n",
    "        \n",
    "        \n",
    "print(PRECIPSUM)\n",
    "print(FECHA)"
   ]
  },
  {
   "cell_type": "code",
   "execution_count": 138,
   "metadata": {},
   "outputs": [
    {
     "data": {
      "image/png": "[encoded data removed]",
      "text/plain": [
       "<Figure size 432x288 with 1 Axes>"
      ]
     },
     "metadata": {
      "needs_background": "light"
     },
     "output_type": "display_data"
    }
   ],
   "source": [
    "ind=np.arange(len(PRECIPSUM))\n",
    "width= .035\n",
    "\n",
    "\n",
    "fig, ax = plt.subplots()\n",
    "rects1=ax.bar(ind - width/2, PRECIPSUM, color='SkyBlue',label='precipitación')\n",
    "\n",
    "#agreagamos nombres a los ejes\n",
    "ax.set_ylabel('precipitacion en (mm)')\n",
    "ax.set_title('acumulación de la precipitación por año')\n",
    "ax.set_xticks(ind)\n",
    "ax.set_xticklabels((FECHA))\n",
    "                   \n",
    "ax.legend()\n",
    "                   \n",
    "#def autolabel(rects, xpos='center'):\n",
    "\n",
    "    #xpos = xpos.lower()  # normalize the case of the parameter\n",
    "    #ha = {'center': 'center', 'right': 'left', 'left': 'right'}\n",
    "    #offset = {'center': 0.5, 'right': 0.57, 'left': 0.43}  # x_txt = x + w*off\n",
    "\n",
    "    #for rect in rects:\n",
    "      #  height = rect.get_height()\n",
    "       # ax.text(rect.get_x() + rect.get_width()*offset[xpos], 1.01*height,\n",
    "        #        '{}'.format(height), ha=ha[xpos], va='bottom')\n",
    "\n",
    "\n",
    "#autolabel(rects1, \"left\")\n",
    "plt.savefig('precipaño',plt=2000)                   \n",
    "plt.show()"
   ]
  },
  {
   "cell_type": "code",
   "execution_count": null,
   "metadata": {
    "scrolled": true
   },
   "outputs": [],
   "source": [
    "max(ind)"
   ]
  },
  {
   "cell_type": "code",
   "execution_count": null,
   "metadata": {
    "scrolled": true
   },
   "outputs": [],
   "source": [
    "df.head()"
   ]
  },
  {
   "cell_type": "code",
   "execution_count": null,
   "metadata": {},
   "outputs": [],
   "source": [
    "Año = [i for i in range(1961,2012)]\n",
    "precipaño = [df[df.AÑO==(i)].PRECIP.mean() for i in range(1,13)]\n",
    "tmaxaño = [df[df.AÑO==(i)].TMAX.mean() for i in range(1960,2012)]\n",
    "tminaño = [df[df.AÑO==(i)].TMIN.mean() for i in range(1961,2012)]"
   ]
  },
  {
   "cell_type": "code",
   "execution_count": 124,
   "metadata": {},
   "outputs": [
    {
     "data": {
      "image/png": "[encoded data removed]",
      "text/plain": [
       "<Figure size 432x288 with 1 Axes>"
      ]
     },
     "metadata": {
      "needs_background": "light"
     },
     "output_type": "display_data"
    }
   ],
   "source": [
    "x=Año\n",
    "n=np.arange(len(x))\n",
    "Y1=tmaxaño\n",
    "Y2=tminaño\n",
    "\n",
    "plt.plot(Y1,label=\"Temperatura máximo\", color = 'b')\n",
    "plt.xlabel(\"Años\")\n",
    "plt.ylabel(\"Temperatura C\")\n",
    "\n",
    "plt.xticks(n,x,size=7,color='k',rotation=90)\n",
    "\n",
    "plt.plot(Y2,label=\"Temperatura mínima\",color='y')\n",
    "plt.legend()\n",
    "plt.title('Cambio de la temperatura promedio (1961-2012)' )\n",
    "plt.savefig('evoluciontemp',plt=2000)\n",
    "plt.show()"
   ]
  },
  {
   "cell_type": "code",
   "execution_count": 125,
   "metadata": {},
   "outputs": [
    {
     "data": {
      "image/png": "[encoded data removed]",
      "text/plain": [
       "<Figure size 432x288 with 1 Axes>"
      ]
     },
     "metadata": {
      "needs_background": "light"
     },
     "output_type": "display_data"
    }
   ],
   "source": [
    "\n",
    "\n",
    "plt.plot_date(x=df.FECHA, y=df.TMIN, fmt=\"b-\")\n",
    "plt.plot_date(x=df.FECHA, y=df.TMAX, fmt=\"r-\")\n",
    "plt.title(\"Variación de la Temperatura\")\n",
    "plt.ylabel(\"Temp ºC\")\n",
    "plt.grid(True)\n",
    "plt.show()"
   ]
  },
  {
   "cell_type": "code",
   "execution_count": 126,
   "metadata": {},
   "outputs": [
    {
     "data": {
      "text/plain": [
       "Index(['PRECIP', 'EVAP', 'TMAX', 'TMIN', 'FECHA', 'MES', 'AÑO'], dtype='object')"
      ]
     },
     "execution_count": 126,
     "metadata": {},
     "output_type": "execute_result"
    }
   ],
   "source": [
    "df.columns"
   ]
  },
  {
   "cell_type": "code",
   "execution_count": 127,
   "metadata": {},
   "outputs": [],
   "source": [
    "lista = df['AÑO'].unique()"
   ]
  },
  {
   "cell_type": "code",
   "execution_count": 128,
   "metadata": {},
   "outputs": [
    {
     "data": {
      "text/plain": [
       "array([1961, 1962, 1963, 1964, 1965, 1966, 1967, 1968, 1969, 1970, 1971,\n",
       "       1972, 1973, 1974, 1975, 1976, 1977, 1978, 1979, 1980, 1981, 1982,\n",
       "       1983, 1984, 1985, 1986, 1987, 1988, 1989, 1990, 1991, 1992, 1993,\n",
       "       1994, 1995, 1996, 1997, 1998, 2000, 2001, 2002, 2003, 2004, 2005,\n",
       "       2006, 2007, 2008, 2009, 2010, 2011], dtype=int64)"
      ]
     },
     "execution_count": 128,
     "metadata": {},
     "output_type": "execute_result"
    }
   ],
   "source": [
    "lista"
   ]
  },
  {
   "cell_type": "code",
   "execution_count": 129,
   "metadata": {},
   "outputs": [
    {
     "name": "stdout",
     "output_type": "stream",
     "text": [
      "[-0.6948023426061493, 0.9407692307692308, 3.734190410006949, 7.088525780682644, 11.470736842105262, 16.215356355620866, 19.359738372093023, 18.55836516424752, 15.583802281368822, 9.04330985915493, 2.9437821927888153, -0.580043227665706]\n"
     ]
    }
   ],
   "source": [
    "tprim=[]\n",
    "\n",
    "for i in range(1,13):\n",
    "    TMINMENS=df.loc[df['MES']==i,'TMIN'].mean()\n",
    "    tprim.append(TMINMENS)\n",
    "    \n",
    "print(tprim)    "
   ]
  },
  {
   "cell_type": "code",
   "execution_count": null,
   "metadata": {},
   "outputs": [],
   "source": []
  },
  {
   "cell_type": "code",
   "execution_count": 130,
   "metadata": {},
   "outputs": [],
   "source": [
    "Meses = [i for i in range(1,13)]\n",
    "Precipmens = [df[df.MES==(i)].PRECIP.mean() for i in range(1,13)]\n",
    "tmaxmens = [df[df.MES==(i)].TMAX.mean() for i in range(1,13)]\n",
    "tminmens = [df[df.MES==(i)].TMIN.mean() for i in range(1,13)]"
   ]
  },
  {
   "cell_type": "code",
   "execution_count": 131,
   "metadata": {},
   "outputs": [],
   "source": [
    "Año = [i for i in range(1961,2012)]\n",
    "precipaño = [df[df.AÑO==(i)].PRECIP.mean() for i in range(1,13)]\n",
    "tmaxaño = [df[df.AÑO==(i)].TMAX.mean() for i in range(1960,2012)]\n",
    "tminaño = [df[df.AÑO==(i)].TMIN.mean() for i in range(1961,2012)]"
   ]
  },
  {
   "cell_type": "code",
   "execution_count": 132,
   "metadata": {
    "scrolled": true
   },
   "outputs": [
    {
     "data": {
      "image/png": "[encoded data removed]",
      "text/plain": [
       "<Figure size 432x288 with 1 Axes>"
      ]
     },
     "metadata": {
      "needs_background": "light"
     },
     "output_type": "display_data"
    }
   ],
   "source": [
    "ax = sns.boxplot(x=\"MES\",y=\"TMAX\",data=df,palette='colorblind')\n",
    "ax.set(xlabel='meses',ylabel='temperatura C')\n",
    "plt.savefig('cajatempmensual1',plt=2000)\n",
    "plt.show()"
   ]
  },
  {
   "cell_type": "code",
   "execution_count": 133,
   "metadata": {
    "scrolled": true
   },
   "outputs": [
    {
     "data": {
      "image/png": "[encoded data removed]",
      "text/plain": [
       "<Figure size 432x288 with 1 Axes>"
      ]
     },
     "metadata": {
      "needs_background": "light"
     },
     "output_type": "display_data"
    }
   ],
   "source": [
    "ax = sns.boxplot(x=\"MES\",y=\"TMIN\",data=df,palette='colorblind')\n",
    "ax.set(xlabel='meses',ylabel='temperatura C')\n",
    "plt.savefig('cajatempmensual2',plt=2000)\n",
    "plt.show()"
   ]
  },
  {
   "cell_type": "code",
   "execution_count": 134,
   "metadata": {},
   "outputs": [
    {
     "data": {
      "image/png": "[encoded data removed]",
      "text/plain": [
       "<Figure size 432x288 with 1 Axes>"
      ]
     },
     "metadata": {
      "needs_background": "light"
     },
     "output_type": "display_data"
    }
   ],
   "source": [
    "ax = sns.boxplot(x=\"AÑO\",y=\"TMAX\",data=df,palette='colorblind')\n",
    "ax.set(xlabel='Años',ylabel='Temperatura')\n",
    "ax.set_xticklabels(ax.get_xticklabels(),rotation=90)\n",
    "ax.tick_params(labelsize=7)\n",
    "sns.despine()\n",
    "plt.savefig('cajaaño1',plt=2000)\n",
    "plt.show()"
   ]
  },
  {
   "cell_type": "code",
   "execution_count": 135,
   "metadata": {},
   "outputs": [
    {
     "data": {
      "image/png": "[encoded data removed]",
      "text/plain": [
       "<Figure size 432x288 with 1 Axes>"
      ]
     },
     "metadata": {
      "needs_background": "light"
     },
     "output_type": "display_data"
    }
   ],
   "source": [
    "ax = sns.boxplot(x=\"AÑO\",y=\"TMIN\",data=df,palette='colorblind')\n",
    "ax.set(xlabel='Años',ylabel='Temperatura')\n",
    "ax.set_xticklabels(ax.get_xticklabels(),rotation=90)\n",
    "ax.tick_params(labelsize=7)\n",
    "sns.despine()\n",
    "plt.savefig('cajaaño2',plt=2000)\n",
    "plt.show()"
   ]
  },
  {
   "cell_type": "code",
   "execution_count": null,
   "metadata": {},
   "outputs": [],
   "source": []
  }
 ],
 "metadata": {
  "kernelspec": {
   "display_name": "Python 3",
   "language": "python",
   "name": "python3"
  },
  "language_info": {
   "codemirror_mode": {
    "name": "ipython",
    "version": 3
   },
   "file_extension": ".py",
   "mimetype": "text/x-python",
   "name": "python",
   "nbconvert_exporter": "python",
   "pygments_lexer": "ipython3",
   "version": "3.7.1"
  }
 },
 "nbformat": 4,
 "nbformat_minor": 2
}
