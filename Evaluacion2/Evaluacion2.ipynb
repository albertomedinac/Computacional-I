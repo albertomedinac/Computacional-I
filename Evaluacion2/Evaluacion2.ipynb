{
 "cells": [
  {
   "cell_type": "code",
   "execution_count": 374,
   "metadata": {},
   "outputs": [],
   "source": [
    "import pandas as pd\n",
    "import numpy as np\n",
    "import matplotlib.pyplot as plt\n",
    "import seaborn as sns"
   ]
  },
  {
   "cell_type": "code",
   "execution_count": 375,
   "metadata": {},
   "outputs": [],
   "source": [
    "#leemos los datos meteorologicos\n",
    "df=pd.read_csv(\"meteo-vid-2018.csv\",engine=\"python\")\n",
    "\n",
    "#le pedimos que se desaga de las columnas sin info\n",
    "df=df.loc[:, ~df.columns.str.contains('^Unnamed')]"
   ]
  },
  {
   "cell_type": "code",
   "execution_count": 376,
   "metadata": {},
   "outputs": [],
   "source": [
    "#unimos dos columnas la de DATE y TIME\n",
    "df['FECHA'] = df['Date'].str.cat(df['Time'],sep=\" \")\n",
    "\n",
    "df.drop(['Date', 'Time'],axis=1,inplace=True) #Me deshago de las columnas que ya no utilizare \n",
    "df['FECHA'] = pd.to_datetime(df['FECHA'], dayfirst=True) #Convierto la columna Fecha al tipo datetime\n",
    "df=df[df['FECHA']<'2019-01-01']"
   ]
  },
  {
   "cell_type": "code",
   "execution_count": 377,
   "metadata": {},
   "outputs": [],
   "source": [
    "df=df.dropna(axis=0, how='all', thresh=None, subset=None, inplace=False)\n"
   ]
  },
  {
   "cell_type": "code",
   "execution_count": 378,
   "metadata": {},
   "outputs": [],
   "source": [
    "df['AÑO']=df['FECHA'].dt.year \n",
    "df['MES']=df['FECHA'].dt.month \n",
    "df['DIA']=df['FECHA'].dt.day  \n",
    "df['MIN']=df['FECHA'].dt.minute  \n",
    "df['HORA']=df['FECHA'].dt.hour "
   ]
  },
  {
   "cell_type": "code",
   "execution_count": 379,
   "metadata": {},
   "outputs": [],
   "source": [
    "df1=pd.DataFrame({\n",
    "    \"WS_ms_S_WVT\": df[\"WS_ms_S_WVT\"],\n",
    "    \"AirTC_Avg\": df[\"AirTC_Avg\"],\n",
    "    \"RH\": df[\"RH\"],\n",
    "    \"Rn_Avg\": df[\"Rn_Avg\"],\n",
    "    \"FECHA\":df[\"FECHA\"],\n",
    "    \"AÑO\":df[\"AÑO\"],\n",
    "    \"MES\":df[\"MES\"]\n",
    "})\n"
   ]
  },
  {
   "cell_type": "code",
   "execution_count": 380,
   "metadata": {},
   "outputs": [],
   "source": [
    "df2=pd.DataFrame({\n",
    "\"vel_prom\":df1.groupby(['AÑO','MES'])[\"WS_ms_S_WVT\"].mean(),\n",
    "\"Tmax\":df1.groupby(['AÑO','MES'])[\"AirTC_Avg\"].max(),\n",
    "\"Tmin\":df1.groupby(['AÑO','MES'])[\"AirTC_Avg\"].min(),\n",
    "\"Tprom\":df1.groupby(['AÑO','MES'])[\"AirTC_Avg\"].mean(),\n",
    "\"RHmax\":df1.groupby(['AÑO','MES'])[\"RH\"].max(),\n",
    "\"RHmin\":df1.groupby(['AÑO','MES'])[\"RH\"].min(),\n",
    "\"RHprom\":df1.groupby(['AÑO','MES'])[\"RH\"].mean(),\n",
    "\"Rs\":df1.groupby(['AÑO','MES'])[\"Rn_Avg\"].mean()\n",
    "    })"
   ]
  },
  {
   "cell_type": "code",
   "execution_count": 381,
   "metadata": {},
   "outputs": [],
   "source": [
    "latitud=[]\n",
    "longitud=[]\n",
    "altitud=[]\n",
    "\n",
    "lat=0.504725\n",
    "lon=1.942737\n",
    "alt=101\n",
    "\n",
    "for i in df2.index:\n",
    "    latitud.append(lat)\n",
    "    longitud.append(lon)\n",
    "    altitud.append(alt)\n",
    "    \n",
    "\n"
   ]
  },
  {
   "cell_type": "code",
   "execution_count": 382,
   "metadata": {},
   "outputs": [],
   "source": [
    "MES=[\"Enero\",\"Feberero\",\"Marzo\",\"Abril\",\"Mayo\",\"Junio\",\"Julio\",\"Agosto\",\"Septiembre\",\"Octubre\",\"Noviembre\",\"Diciembre\"]"
   ]
  },
  {
   "cell_type": "code",
   "execution_count": 413,
   "metadata": {},
   "outputs": [
    {
     "data": {
      "text/html": [
       "<div>\n",
       "<style scoped>\n",
       "    .dataframe tbody tr th:only-of-type {\n",
       "        vertical-align: middle;\n",
       "    }\n",
       "\n",
       "    .dataframe tbody tr th {\n",
       "        vertical-align: top;\n",
       "    }\n",
       "\n",
       "    .dataframe thead th {\n",
       "        text-align: right;\n",
       "    }\n",
       "</style>\n",
       "<table border=\"1\" class=\"dataframe\">\n",
       "  <thead>\n",
       "    <tr style=\"text-align: right;\">\n",
       "      <th></th>\n",
       "      <th></th>\n",
       "      <th>vel_prom</th>\n",
       "      <th>Tmax</th>\n",
       "      <th>Tmin</th>\n",
       "      <th>Tprom</th>\n",
       "      <th>RHmax</th>\n",
       "      <th>RHmin</th>\n",
       "      <th>RHprom</th>\n",
       "      <th>Rs</th>\n",
       "      <th>latitud</th>\n",
       "      <th>longitud</th>\n",
       "      <th>altitud</th>\n",
       "      <th>MES</th>\n",
       "    </tr>\n",
       "    <tr>\n",
       "      <th>AÑO</th>\n",
       "      <th>MES</th>\n",
       "      <th></th>\n",
       "      <th></th>\n",
       "      <th></th>\n",
       "      <th></th>\n",
       "      <th></th>\n",
       "      <th></th>\n",
       "      <th></th>\n",
       "      <th></th>\n",
       "      <th></th>\n",
       "      <th></th>\n",
       "      <th></th>\n",
       "      <th></th>\n",
       "    </tr>\n",
       "  </thead>\n",
       "  <tbody>\n",
       "    <tr>\n",
       "      <th rowspan=\"12\" valign=\"top\">2018</th>\n",
       "      <th>1</th>\n",
       "      <td>1.944333</td>\n",
       "      <td>33.35</td>\n",
       "      <td>0.54</td>\n",
       "      <td>16.971598</td>\n",
       "      <td>91.60</td>\n",
       "      <td>5.98</td>\n",
       "      <td>38.450544</td>\n",
       "      <td>34.802554</td>\n",
       "      <td>0.504725</td>\n",
       "      <td>1.942737</td>\n",
       "      <td>101</td>\n",
       "      <td>Enero</td>\n",
       "    </tr>\n",
       "    <tr>\n",
       "      <th>2</th>\n",
       "      <td>1.964189</td>\n",
       "      <td>31.47</td>\n",
       "      <td>0.07</td>\n",
       "      <td>17.230275</td>\n",
       "      <td>99.53</td>\n",
       "      <td>6.76</td>\n",
       "      <td>48.168006</td>\n",
       "      <td>56.250350</td>\n",
       "      <td>0.504725</td>\n",
       "      <td>1.942737</td>\n",
       "      <td>101</td>\n",
       "      <td>Feberero</td>\n",
       "    </tr>\n",
       "    <tr>\n",
       "      <th>3</th>\n",
       "      <td>1.926196</td>\n",
       "      <td>35.22</td>\n",
       "      <td>3.06</td>\n",
       "      <td>19.282359</td>\n",
       "      <td>89.73</td>\n",
       "      <td>6.76</td>\n",
       "      <td>36.968353</td>\n",
       "      <td>92.894913</td>\n",
       "      <td>0.504725</td>\n",
       "      <td>1.942737</td>\n",
       "      <td>101</td>\n",
       "      <td>Marzo</td>\n",
       "    </tr>\n",
       "    <tr>\n",
       "      <th>4</th>\n",
       "      <td>2.101812</td>\n",
       "      <td>36.30</td>\n",
       "      <td>5.43</td>\n",
       "      <td>21.880618</td>\n",
       "      <td>93.40</td>\n",
       "      <td>5.23</td>\n",
       "      <td>40.785667</td>\n",
       "      <td>134.012965</td>\n",
       "      <td>0.504725</td>\n",
       "      <td>1.942737</td>\n",
       "      <td>101</td>\n",
       "      <td>Abril</td>\n",
       "    </tr>\n",
       "    <tr>\n",
       "      <th>5</th>\n",
       "      <td>2.113918</td>\n",
       "      <td>38.18</td>\n",
       "      <td>7.13</td>\n",
       "      <td>23.650034</td>\n",
       "      <td>94.60</td>\n",
       "      <td>8.19</td>\n",
       "      <td>44.233468</td>\n",
       "      <td>162.405343</td>\n",
       "      <td>0.504725</td>\n",
       "      <td>1.942737</td>\n",
       "      <td>101</td>\n",
       "      <td>Mayo</td>\n",
       "    </tr>\n",
       "    <tr>\n",
       "      <th>6</th>\n",
       "      <td>2.154986</td>\n",
       "      <td>41.47</td>\n",
       "      <td>13.12</td>\n",
       "      <td>28.416187</td>\n",
       "      <td>98.37</td>\n",
       "      <td>5.34</td>\n",
       "      <td>50.810507</td>\n",
       "      <td>163.926069</td>\n",
       "      <td>0.504725</td>\n",
       "      <td>1.942737</td>\n",
       "      <td>101</td>\n",
       "      <td>Junio</td>\n",
       "    </tr>\n",
       "    <tr>\n",
       "      <th>7</th>\n",
       "      <td>2.022204</td>\n",
       "      <td>44.94</td>\n",
       "      <td>18.71</td>\n",
       "      <td>31.065726</td>\n",
       "      <td>97.00</td>\n",
       "      <td>13.10</td>\n",
       "      <td>57.639805</td>\n",
       "      <td>157.534402</td>\n",
       "      <td>0.504725</td>\n",
       "      <td>1.942737</td>\n",
       "      <td>101</td>\n",
       "      <td>Julio</td>\n",
       "    </tr>\n",
       "    <tr>\n",
       "      <th>8</th>\n",
       "      <td>1.910853</td>\n",
       "      <td>40.24</td>\n",
       "      <td>22.71</td>\n",
       "      <td>30.120894</td>\n",
       "      <td>98.60</td>\n",
       "      <td>30.16</td>\n",
       "      <td>68.868454</td>\n",
       "      <td>151.273589</td>\n",
       "      <td>0.504725</td>\n",
       "      <td>1.942737</td>\n",
       "      <td>101</td>\n",
       "      <td>Agosto</td>\n",
       "    </tr>\n",
       "    <tr>\n",
       "      <th>9</th>\n",
       "      <td>1.790326</td>\n",
       "      <td>41.39</td>\n",
       "      <td>19.43</td>\n",
       "      <td>29.661271</td>\n",
       "      <td>98.03</td>\n",
       "      <td>21.32</td>\n",
       "      <td>66.619750</td>\n",
       "      <td>136.749910</td>\n",
       "      <td>0.504725</td>\n",
       "      <td>1.942737</td>\n",
       "      <td>101</td>\n",
       "      <td>Septiembre</td>\n",
       "    </tr>\n",
       "    <tr>\n",
       "      <th>10</th>\n",
       "      <td>1.664435</td>\n",
       "      <td>35.82</td>\n",
       "      <td>10.23</td>\n",
       "      <td>23.254207</td>\n",
       "      <td>98.47</td>\n",
       "      <td>17.32</td>\n",
       "      <td>68.696082</td>\n",
       "      <td>95.513468</td>\n",
       "      <td>0.504725</td>\n",
       "      <td>1.942737</td>\n",
       "      <td>101</td>\n",
       "      <td>Octubre</td>\n",
       "    </tr>\n",
       "    <tr>\n",
       "      <th>11</th>\n",
       "      <td>1.498097</td>\n",
       "      <td>32.39</td>\n",
       "      <td>2.47</td>\n",
       "      <td>16.966396</td>\n",
       "      <td>99.43</td>\n",
       "      <td>8.75</td>\n",
       "      <td>58.085458</td>\n",
       "      <td>60.384285</td>\n",
       "      <td>0.504725</td>\n",
       "      <td>1.942737</td>\n",
       "      <td>101</td>\n",
       "      <td>Noviembre</td>\n",
       "    </tr>\n",
       "    <tr>\n",
       "      <th>12</th>\n",
       "      <td>1.628730</td>\n",
       "      <td>31.86</td>\n",
       "      <td>-1.34</td>\n",
       "      <td>14.332823</td>\n",
       "      <td>97.33</td>\n",
       "      <td>8.04</td>\n",
       "      <td>58.333938</td>\n",
       "      <td>44.962366</td>\n",
       "      <td>0.504725</td>\n",
       "      <td>1.942737</td>\n",
       "      <td>101</td>\n",
       "      <td>Diciembre</td>\n",
       "    </tr>\n",
       "  </tbody>\n",
       "</table>\n",
       "</div>"
      ],
      "text/plain": [
       "          vel_prom   Tmax   Tmin      Tprom  RHmax  RHmin     RHprom  \\\n",
       "AÑO  MES                                                               \n",
       "2018 1    1.944333  33.35   0.54  16.971598  91.60   5.98  38.450544   \n",
       "     2    1.964189  31.47   0.07  17.230275  99.53   6.76  48.168006   \n",
       "     3    1.926196  35.22   3.06  19.282359  89.73   6.76  36.968353   \n",
       "     4    2.101812  36.30   5.43  21.880618  93.40   5.23  40.785667   \n",
       "     5    2.113918  38.18   7.13  23.650034  94.60   8.19  44.233468   \n",
       "     6    2.154986  41.47  13.12  28.416187  98.37   5.34  50.810507   \n",
       "     7    2.022204  44.94  18.71  31.065726  97.00  13.10  57.639805   \n",
       "     8    1.910853  40.24  22.71  30.120894  98.60  30.16  68.868454   \n",
       "     9    1.790326  41.39  19.43  29.661271  98.03  21.32  66.619750   \n",
       "     10   1.664435  35.82  10.23  23.254207  98.47  17.32  68.696082   \n",
       "     11   1.498097  32.39   2.47  16.966396  99.43   8.75  58.085458   \n",
       "     12   1.628730  31.86  -1.34  14.332823  97.33   8.04  58.333938   \n",
       "\n",
       "                  Rs   latitud  longitud  altitud         MES  \n",
       "AÑO  MES                                                       \n",
       "2018 1     34.802554  0.504725  1.942737      101       Enero  \n",
       "     2     56.250350  0.504725  1.942737      101    Feberero  \n",
       "     3     92.894913  0.504725  1.942737      101       Marzo  \n",
       "     4    134.012965  0.504725  1.942737      101       Abril  \n",
       "     5    162.405343  0.504725  1.942737      101        Mayo  \n",
       "     6    163.926069  0.504725  1.942737      101       Junio  \n",
       "     7    157.534402  0.504725  1.942737      101       Julio  \n",
       "     8    151.273589  0.504725  1.942737      101      Agosto  \n",
       "     9    136.749910  0.504725  1.942737      101  Septiembre  \n",
       "     10    95.513468  0.504725  1.942737      101     Octubre  \n",
       "     11    60.384285  0.504725  1.942737      101   Noviembre  \n",
       "     12    44.962366  0.504725  1.942737      101   Diciembre  "
      ]
     },
     "execution_count": 413,
     "metadata": {},
     "output_type": "execute_result"
    }
   ],
   "source": [
    "df2[\"latitud\"]=latitud\n",
    "df2[\"longitud\"]=longitud\n",
    "df2[\"altitud\"]=altitud\n",
    "df2[\"MES\"]=MES\n",
    "df2"
   ]
  },
  {
   "cell_type": "code",
   "execution_count": 414,
   "metadata": {},
   "outputs": [
    {
     "data": {
      "image/png": "[encoded data removed]",
      "text/plain": [
       "<Figure size 432x288 with 1 Axes>"
      ]
     },
     "metadata": {
      "needs_background": "light"
     },
     "output_type": "display_data"
    }
   ],
   "source": [
    "graf1 = df2[['Tmax','Tmin','Tprom']]\n",
    "plt.plot(range(0,12),graf1)\n",
    "plt.title(\"Temperatura mensual\")\n",
    "plt.ylabel(\"Temperatura (°C)\")\n",
    "plt.legend(graf1)\n",
    "plt.grid()\n",
    "plt.xticks(np.arange(12),df2[\"MES\"],rotation=45)\n",
    "plt.savefig(\"Tempmens\", plt = 2000)\n",
    "plt.show()\n"
   ]
  },
  {
   "cell_type": "code",
   "execution_count": 415,
   "metadata": {},
   "outputs": [
    {
     "data": {
      "image/png": "[encoded data removed]",
      "text/plain": [
       "<Figure size 432x288 with 1 Axes>"
      ]
     },
     "metadata": {
      "needs_background": "light"
     },
     "output_type": "display_data"
    }
   ],
   "source": [
    "graf1 = df2[['RHmax','RHmin','RHprom']]\n",
    "plt.plot(range(0,12),graf1)\n",
    "plt.title(\"Humedad relativa\")\n",
    "plt.ylabel(\"Humedad (%)\")\n",
    "plt.legend(graf1)\n",
    "plt.grid()\n",
    "plt.xticks(np.arange(12),df2[\"MES\"],rotation=45)\n",
    "plt.savefig(\"Humedadrelativa\", plt = 2000)\n",
    "plt.show()"
   ]
  },
  {
   "cell_type": "code",
   "execution_count": 416,
   "metadata": {},
   "outputs": [
    {
     "data": {
      "image/png": "[encoded data removed]",
      "text/plain": [
       "<Figure size 432x288 with 1 Axes>"
      ]
     },
     "metadata": {
      "needs_background": "light"
     },
     "output_type": "display_data"
    }
   ],
   "source": [
    "graf1 = df2[['Rs']]\n",
    "plt.plot(range(0,12),graf1)\n",
    "plt.title(\"Radiacion solar\")\n",
    "plt.ylabel(\"Radiacion (MJ/m2/día)\")\n",
    "plt.legend(graf1)\n",
    "plt.grid()\n",
    "plt.xticks(np.arange(12),df2[\"MES\"],rotation=45)\n",
    "plt.savefig(\"radsolar\", plt = 2000)\n",
    "plt.show()"
   ]
  },
  {
   "cell_type": "code",
   "execution_count": 387,
   "metadata": {},
   "outputs": [],
   "source": [
    "df3= pd.DataFrame({\n",
    "\"vel_prom\":df.groupby(['AÑO','MES','DIA'])[\"WS_ms_S_WVT\"].mean(),\n",
    "\"Tmax\":df.groupby(['AÑO','MES','DIA'])[\"AirTC_Avg\"].max(),\n",
    "\"Tmin\":df.groupby(['AÑO','MES','DIA'])[\"AirTC_Avg\"].min(),\n",
    "\"Tprom\":df.groupby(['AÑO','MES','DIA'])[\"AirTC_Avg\"].mean(),\n",
    "\"RHmax\":df.groupby(['AÑO','MES','DIA'])[\"RH\"].max(),\n",
    "\"RHmin\":df.groupby(['AÑO','MES','DIA'])[\"RH\"].min(),\n",
    "\"RHprom\":df.groupby(['AÑO','MES','DIA'])[\"RH\"].mean(),\n",
    "\"Rs\":df.groupby(['AÑO','MES','DIA'])[\"Rn_Avg\"].mean()\n",
    "    \n",
    "})"
   ]
  },
  {
   "cell_type": "code",
   "execution_count": 388,
   "metadata": {},
   "outputs": [],
   "source": [
    "df['albedo_Avg']=df[\"albedo_Avg\"].apply(pd.to_numeric, errors='coerce')"
   ]
  },
  {
   "cell_type": "code",
   "execution_count": 389,
   "metadata": {},
   "outputs": [],
   "source": [
    "df5=df"
   ]
  },
  {
   "cell_type": "code",
   "execution_count": 390,
   "metadata": {},
   "outputs": [],
   "source": [
    "\n",
    "\n",
    "df5[\"vel_prom\"]=df.groupby(['AÑO','MES','DIA'])[\"WS_ms_S_WVT\"].transform('mean')\n",
    "df5[\"Tmax\"]=df.groupby(['AÑO','MES','DIA'])[\"AirTC_Avg\"].transform('max')\n",
    "df5[\"Tmin\"]=df.groupby(['AÑO','MES','DIA'])[\"AirTC_Avg\"].transform('min')\n",
    "df5[\"Tprom\"]=df.groupby(['AÑO','MES','DIA'])[\"AirTC_Avg\"].transform('mean')\n",
    "df5[\"RHmax\"]=df.groupby(['AÑO','MES','DIA'])[\"RH\"].transform('max')\n",
    "df5[\"RHmin\"]=df.groupby(['AÑO','MES','DIA'])[\"RH\"].transform('min')\n",
    "df5[\"RHprom\"]=df.groupby(['AÑO','MES','DIA'])[\"RH\"].transform('mean')\n",
    "df5[\"Rs\"]=df.groupby(['AÑO','MES','DIA'])[\"Rn_Avg\"].transform('mean')\n",
    "df5[\"albedo_Avg\"]=df.groupby(['AÑO','MES','DIA'])[\"albedo_Avg\"].transform('mean')\n"
   ]
  },
  {
   "cell_type": "code",
   "execution_count": 391,
   "metadata": {},
   "outputs": [],
   "source": [
    "df5=df5.drop_duplicates(subset=['MES','DIA'] ,keep='first',inplace=False)"
   ]
  },
  {
   "cell_type": "code",
   "execution_count": 392,
   "metadata": {},
   "outputs": [],
   "source": [
    "df5=df5.reset_index()"
   ]
  },
  {
   "cell_type": "code",
   "execution_count": 393,
   "metadata": {},
   "outputs": [],
   "source": [
    "df5=df5[['FECHA','albedo_Avg','vel_prom','Tmax','Tmin','Tprom','RHmax','RHmin','RHprom','Rs','MES','DIA','HORA']]"
   ]
  },
  {
   "cell_type": "code",
   "execution_count": 395,
   "metadata": {},
   "outputs": [],
   "source": [
    "def d(J):\n",
    "    return 1+0.033*np.cos(2/365*np.pi*J)\n",
    "\n",
    "def delta(J):\n",
    "    return 0.409*np.sin(2*np.pi/365*J - 1.39)\n",
    "\n",
    "def w(s):\n",
    "    return np.arccos(-1*np.tan(lat)*np.tan(delta(s)))\n",
    "    \n",
    "def Ra(j):\n",
    "    return 24*60/np.pi*(0.082)*d(j)*(w(j)*np.sin(lat)*np.sin(delta(j)) + np.cos(lat)*np.sin(w(j)))\n",
    "\n",
    "def JH(t,rs):\n",
    "    return (0.0252*t + 0.078) * rs\n",
    "\n",
    "def val1(rs,tmean,phi,tmin):\n",
    "    return (0.0393*rs*(tmean + 9.5)**(0.5) - 0.19*rs**(0.6) * phi**(0.15) + \n",
    "            0.0061*(tmean + 20)*(1.12*tmean - tmin - 2)**(0.7))\n",
    "def val4(a,rs,tmean,dia,rh,u2,z): #u2 es la velocidad\n",
    "    return (0.051*(1-a)*rs*(tmean + 9.5)**(0.5) - 2.4*(rs/Ra(dia))**2 + \n",
    "            0.048*(tmean + 20)*(1 - rh/100)*(0.5 + 0.536*u2) + 0.00012*z)"
   ]
  },
  {
   "cell_type": "code",
   "execution_count": 396,
   "metadata": {},
   "outputs": [
    {
     "name": "stderr",
     "output_type": "stream",
     "text": [
      "C:\\Users\\JESUS MEDINA\\Anaconda3\\lib\\site-packages\\ipykernel_launcher.py:17: RuntimeWarning: invalid value encountered in double_scalars\n"
     ]
    }
   ],
   "source": [
    "ET1=[]\n",
    "ET2=[]\n",
    "ET3=[]\n",
    "phi0=lat\n",
    "z0=alt\n",
    "\n",
    "\n",
    "for i in df5.index:\n",
    "    ET1.append( JH(df5[\"Tprom\"][i],df5[\"Rs\"][i]))\n",
    "    ET2.append( val1(df5[\"Rs\"][i],df5[\"Tprom\"][i],phi0,df5[\"Tmin\"][i]))\n",
    "    ET3.append( val4(df5[\"albedo_Avg\"][i],df5[\"Rs\"][i],df5[\"Tprom\"][i],i+7,df5[\"RHprom\"][i],df5[\"vel_prom\"][i],z0))\n",
    "    \n",
    "        \n"
   ]
  },
  {
   "cell_type": "code",
   "execution_count": 397,
   "metadata": {},
   "outputs": [],
   "source": [
    "df5['ET1']=ET1\n",
    "df5['ET2']=ET2\n",
    "df5['ET3']=ET3"
   ]
  },
  {
   "cell_type": "code",
   "execution_count": 398,
   "metadata": {},
   "outputs": [],
   "source": [
    "df5['ET2'] = df5['ET2'].fillna(0)"
   ]
  },
  {
   "cell_type": "code",
   "execution_count": 399,
   "metadata": {},
   "outputs": [],
   "source": [
    "df6=df5"
   ]
  },
  {
   "cell_type": "code",
   "execution_count": 400,
   "metadata": {},
   "outputs": [],
   "source": [
    "df6[\"vel_prom\"]=df5.groupby(['MES'])[\"vel_prom\"].transform('mean')\n",
    "df6[\"Tmax\"]=df5.groupby(['MES'])[\"Tmax\"].transform('mean')\n",
    "df6[\"Tmin\"]=df5.groupby(['MES'])[\"Tmin\"].transform('mean')\n",
    "df6[\"Tprom\"]=df5.groupby(['MES'])[\"Tprom\"].transform('mean')\n",
    "df6[\"RHmax\"]=df5.groupby(['MES'])[\"RHmax\"].transform('mean')\n",
    "df6[\"RHmin\"]=df5.groupby(['MES'])[\"RHmin\"].transform('mean')\n",
    "df6[\"RHprom\"]=df5.groupby(['MES'])[\"RHprom\"].transform('mean')\n",
    "df6[\"Rs\"]=df5.groupby(['MES'])[\"Rs\"].transform('mean')\n",
    "df6[\"albedo_Avg\"]=df5.groupby(['MES'])[\"albedo_Avg\"].transform('mean')\n",
    "df6[\"ET1\"]=df5.groupby(['MES'])[\"ET1\"].transform('mean')\n",
    "df6[\"ET2\"]=df5.groupby(['MES'])[\"ET2\"].transform('mean')\n",
    "df6[\"ET3\"]=df5.groupby(['MES'])[\"ET3\"].transform('mean')"
   ]
  },
  {
   "cell_type": "code",
   "execution_count": 401,
   "metadata": {},
   "outputs": [],
   "source": [
    "df6=df6.drop_duplicates(subset='MES',keep='first')\n",
    "df6=df6.reset_index()"
   ]
  },
  {
   "cell_type": "code",
   "execution_count": 412,
   "metadata": {},
   "outputs": [
    {
     "data": {
      "text/html": [
       "<div>\n",
       "<style scoped>\n",
       "    .dataframe tbody tr th:only-of-type {\n",
       "        vertical-align: middle;\n",
       "    }\n",
       "\n",
       "    .dataframe tbody tr th {\n",
       "        vertical-align: top;\n",
       "    }\n",
       "\n",
       "    .dataframe thead th {\n",
       "        text-align: right;\n",
       "    }\n",
       "</style>\n",
       "<table border=\"1\" class=\"dataframe\">\n",
       "  <thead>\n",
       "    <tr style=\"text-align: right;\">\n",
       "      <th></th>\n",
       "      <th>index</th>\n",
       "      <th>FECHA</th>\n",
       "      <th>albedo_Avg</th>\n",
       "      <th>vel_prom</th>\n",
       "      <th>Tmax</th>\n",
       "      <th>Tmin</th>\n",
       "      <th>Tprom</th>\n",
       "      <th>RHmax</th>\n",
       "      <th>RHmin</th>\n",
       "      <th>RHprom</th>\n",
       "      <th>Rs</th>\n",
       "      <th>MES</th>\n",
       "      <th>DIA</th>\n",
       "      <th>HORA</th>\n",
       "      <th>ET1</th>\n",
       "      <th>ET2</th>\n",
       "      <th>ET3</th>\n",
       "    </tr>\n",
       "  </thead>\n",
       "  <tbody>\n",
       "    <tr>\n",
       "      <th>0</th>\n",
       "      <td>0</td>\n",
       "      <td>2018-01-06 17:00:00</td>\n",
       "      <td>-0.414921</td>\n",
       "      <td>1.941529</td>\n",
       "      <td>27.368077</td>\n",
       "      <td>7.733462</td>\n",
       "      <td>17.074827</td>\n",
       "      <td>65.835000</td>\n",
       "      <td>14.195385</td>\n",
       "      <td>38.372184</td>\n",
       "      <td>32.917208</td>\n",
       "      <td>1</td>\n",
       "      <td>6</td>\n",
       "      <td>17</td>\n",
       "      <td>16.649192</td>\n",
       "      <td>6.581189</td>\n",
       "      <td>8.739703</td>\n",
       "    </tr>\n",
       "    <tr>\n",
       "      <th>1</th>\n",
       "      <td>26</td>\n",
       "      <td>2018-02-01 00:00:00</td>\n",
       "      <td>-0.479797</td>\n",
       "      <td>1.964189</td>\n",
       "      <td>25.320357</td>\n",
       "      <td>9.433214</td>\n",
       "      <td>17.230275</td>\n",
       "      <td>72.542857</td>\n",
       "      <td>25.725357</td>\n",
       "      <td>48.168006</td>\n",
       "      <td>56.250350</td>\n",
       "      <td>2</td>\n",
       "      <td>1</td>\n",
       "      <td>0</td>\n",
       "      <td>27.831158</td>\n",
       "      <td>10.302332</td>\n",
       "      <td>11.996951</td>\n",
       "    </tr>\n",
       "    <tr>\n",
       "      <th>2</th>\n",
       "      <td>54</td>\n",
       "      <td>2018-03-01 00:00:00</td>\n",
       "      <td>-0.409282</td>\n",
       "      <td>1.926196</td>\n",
       "      <td>29.519355</td>\n",
       "      <td>8.883548</td>\n",
       "      <td>19.282359</td>\n",
       "      <td>68.361613</td>\n",
       "      <td>15.204839</td>\n",
       "      <td>36.968353</td>\n",
       "      <td>92.894913</td>\n",
       "      <td>3</td>\n",
       "      <td>1</td>\n",
       "      <td>0</td>\n",
       "      <td>52.703909</td>\n",
       "      <td>18.273990</td>\n",
       "      <td>17.306774</td>\n",
       "    </tr>\n",
       "    <tr>\n",
       "      <th>3</th>\n",
       "      <td>85</td>\n",
       "      <td>2018-04-01 00:00:00</td>\n",
       "      <td>-0.386051</td>\n",
       "      <td>2.101813</td>\n",
       "      <td>32.671667</td>\n",
       "      <td>10.781667</td>\n",
       "      <td>21.880618</td>\n",
       "      <td>76.585000</td>\n",
       "      <td>15.712333</td>\n",
       "      <td>40.785667</td>\n",
       "      <td>134.012965</td>\n",
       "      <td>4</td>\n",
       "      <td>1</td>\n",
       "      <td>0</td>\n",
       "      <td>84.551798</td>\n",
       "      <td>27.715380</td>\n",
       "      <td>24.494133</td>\n",
       "    </tr>\n",
       "    <tr>\n",
       "      <th>4</th>\n",
       "      <td>115</td>\n",
       "      <td>2018-05-01 00:00:00</td>\n",
       "      <td>-0.367493</td>\n",
       "      <td>2.113918</td>\n",
       "      <td>34.133548</td>\n",
       "      <td>12.781290</td>\n",
       "      <td>23.650034</td>\n",
       "      <td>79.971935</td>\n",
       "      <td>17.229032</td>\n",
       "      <td>44.233468</td>\n",
       "      <td>162.405343</td>\n",
       "      <td>5</td>\n",
       "      <td>1</td>\n",
       "      <td>0</td>\n",
       "      <td>109.611487</td>\n",
       "      <td>34.607619</td>\n",
       "      <td>30.877853</td>\n",
       "    </tr>\n",
       "  </tbody>\n",
       "</table>\n",
       "</div>"
      ],
      "text/plain": [
       "   index               FECHA  albedo_Avg  vel_prom       Tmax       Tmin  \\\n",
       "0      0 2018-01-06 17:00:00   -0.414921  1.941529  27.368077   7.733462   \n",
       "1     26 2018-02-01 00:00:00   -0.479797  1.964189  25.320357   9.433214   \n",
       "2     54 2018-03-01 00:00:00   -0.409282  1.926196  29.519355   8.883548   \n",
       "3     85 2018-04-01 00:00:00   -0.386051  2.101813  32.671667  10.781667   \n",
       "4    115 2018-05-01 00:00:00   -0.367493  2.113918  34.133548  12.781290   \n",
       "\n",
       "       Tprom      RHmax      RHmin     RHprom          Rs  MES  DIA  HORA  \\\n",
       "0  17.074827  65.835000  14.195385  38.372184   32.917208    1    6    17   \n",
       "1  17.230275  72.542857  25.725357  48.168006   56.250350    2    1     0   \n",
       "2  19.282359  68.361613  15.204839  36.968353   92.894913    3    1     0   \n",
       "3  21.880618  76.585000  15.712333  40.785667  134.012965    4    1     0   \n",
       "4  23.650034  79.971935  17.229032  44.233468  162.405343    5    1     0   \n",
       "\n",
       "          ET1        ET2        ET3  \n",
       "0   16.649192   6.581189   8.739703  \n",
       "1   27.831158  10.302332  11.996951  \n",
       "2   52.703909  18.273990  17.306774  \n",
       "3   84.551798  27.715380  24.494133  \n",
       "4  109.611487  34.607619  30.877853  "
      ]
     },
     "execution_count": 412,
     "metadata": {},
     "output_type": "execute_result"
    }
   ],
   "source": [
    "df6.head()"
   ]
  },
  {
   "cell_type": "code",
   "execution_count": 402,
   "metadata": {},
   "outputs": [],
   "source": [
    "#leemos los datos meteorologicos\n",
    "dg=pd.read_csv(\"flujos-vid-2018.csv\",engine=\"python\")\n",
    "\n",
    "#le pedimos que se desaga de las columnas sin info\n",
    "dg=dg.loc[:, ~df.columns.str.contains('^Unnamed')]\n",
    "dg=dg.drop(df.index[0])\n",
    "\n"
   ]
  },
  {
   "cell_type": "code",
   "execution_count": 403,
   "metadata": {},
   "outputs": [],
   "source": [
    "DATA=(np.asarray(dg['Year'], dtype='datetime64[Y]'))+(np.asarray(dg['DoY'], dtype='timedelta64[D]')-1)"
   ]
  },
  {
   "cell_type": "code",
   "execution_count": 404,
   "metadata": {},
   "outputs": [
    {
     "data": {
      "text/plain": [
       "array(['2018-01-07', '2018-01-07', '2018-01-07', ..., '2018-12-31',\n",
       "       '2018-12-31', '2018-12-31'], dtype='datetime64[D]')"
      ]
     },
     "execution_count": 404,
     "metadata": {},
     "output_type": "execute_result"
    }
   ],
   "source": [
    "DATA"
   ]
  },
  {
   "cell_type": "code",
   "execution_count": 405,
   "metadata": {},
   "outputs": [],
   "source": [
    "dg['DATA']=DATA"
   ]
  },
  {
   "cell_type": "code",
   "execution_count": 406,
   "metadata": {},
   "outputs": [],
   "source": [
    "dg['MES']=dg['DATA'].dt.month"
   ]
  },
  {
   "cell_type": "code",
   "execution_count": 407,
   "metadata": {},
   "outputs": [],
   "source": [
    "dg=dg[dg['MES']==2]\n",
    "tempd = dg[\"DATA\"]\n",
    "dg[dg.columns]=dg[dg.columns].apply(pd.to_numeric,errors='coerce')\n",
    "dg[\"DATA\"] = tempd"
   ]
  },
  {
   "cell_type": "code",
   "execution_count": 408,
   "metadata": {},
   "outputs": [],
   "source": [
    "dg1=pd.DataFrame([])\n",
    "dg1['Rn_G'] =dg.groupby(['Hour'])['Rg_f'].transform('mean')\n",
    "dg1['lambda_ET'] =dg.groupby(['Hour'])['LE_f'].transform('mean')\n",
    "dg1['H'] =dg.groupby(['Hour'])['H_f'].transform('mean')\n",
    "dg1['Hour']=dg['Hour']"
   ]
  },
  {
   "cell_type": "code",
   "execution_count": 409,
   "metadata": {},
   "outputs": [],
   "source": [
    "dg1=dg1.drop_duplicates()\n",
    "dg1=dg1.reset_index()"
   ]
  },
  {
   "cell_type": "code",
   "execution_count": 410,
   "metadata": {},
   "outputs": [],
   "source": [
    "dg1=dg1.drop(['index'],axis=1,inplace=False)"
   ]
  },
  {
   "cell_type": "code",
   "execution_count": 411,
   "metadata": {},
   "outputs": [
    {
     "data": {
      "image/png": "[encoded data removed]",
      "text/plain": [
       "<Figure size 576x360 with 1 Axes>"
      ]
     },
     "metadata": {
      "needs_background": "light"
     },
     "output_type": "display_data"
    }
   ],
   "source": [
    "plt.figure(1, figsize=(8, 5))\n",
    "\n",
    "plt.plot(dg1.Hour, dg1.Rn_G)\n",
    "plt.plot(dg1.Hour, dg1.lambda_ET)\n",
    "plt.plot(dg1.Hour, dg1.H)\n",
    "\n",
    "plt.ylabel(\"Balance de energía promedio que deja la superficie \\n Promedio mensual\")\n",
    "plt.xlabel(\"Hora\")\n",
    "plt.gca().legend(('Radiación neta','Calor latente',\"Calor sensible\"))\n",
    "plt.grid(True)\n",
    "plt.savefig(\"BalEne\", plt = 2000)\n",
    "plt.show()"
   ]
  },
  {
   "cell_type": "code",
   "execution_count": null,
   "metadata": {},
   "outputs": [],
   "source": []
  },
  {
   "cell_type": "code",
   "execution_count": null,
   "metadata": {},
   "outputs": [],
   "source": []
  }
 ],
 "metadata": {
  "kernelspec": {
   "display_name": "Python 3",
   "language": "python",
   "name": "python3"
  },
  "language_info": {
   "codemirror_mode": {
    "name": "ipython",
    "version": 3
   },
   "file_extension": ".py",
   "mimetype": "text/x-python",
   "name": "python",
   "nbconvert_exporter": "python",
   "pygments_lexer": "ipython3",
   "version": "3.7.1"
  }
 },
 "nbformat": 4,
 "nbformat_minor": 2
}
